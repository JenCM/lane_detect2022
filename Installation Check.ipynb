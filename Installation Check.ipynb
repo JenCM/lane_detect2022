{
 "cells": [
  {
   "cell_type": "markdown",
   "id": "f24b0016",
   "metadata": {},
   "source": [
    "# Checking that Jupyter Notebook is running properly"
   ]
  },
  {
   "cell_type": "code",
   "execution_count": 1,
   "id": "8c276d6b",
   "metadata": {},
   "outputs": [
    {
     "name": "stdout",
     "output_type": "stream",
     "text": [
      "Is Python working? Yes\n"
     ]
    }
   ],
   "source": [
    "import numpy\n",
    "\n",
    "print('Is Python working? Yes')"
   ]
  },
  {
   "cell_type": "code",
   "execution_count": 1,
   "id": "a785ce57",
   "metadata": {},
   "outputs": [
    {
     "name": "stdout",
     "output_type": "stream",
     "text": [
      "Package              Version\n",
      "-------------------- -----------\n",
      "anyio                3.6.1\n",
      "argon2-cffi          21.3.0\n",
      "argon2-cffi-bindings 21.2.0\n",
      "asttokens            2.0.5\n",
      "attrs                22.1.0\n",
      "Babel                2.10.3\n",
      "backcall             0.2.0\n",
      "beautifulsoup4       4.11.1\n",
      "bleach               5.0.1\n",
      "blis                 0.7.6\n",
      "catalogue            2.0.6\n",
      "certifi              2021.10.8\n",
      "cffi                 1.15.1\n",
      "charset-normalizer   2.0.12\n",
      "click                8.0.4\n",
      "colorama             0.4.4\n",
      "cymem                2.0.6\n",
      "debugpy              1.6.0\n",
      "decorator            5.1.1\n",
      "defusedxml           0.7.1\n",
      "en-core-web-sm       3.2.0\n",
      "entrypoints          0.4\n",
      "executing            0.8.3\n",
      "fastjsonschema       2.16.1\n",
      "idna                 3.3\n",
      "importlib-metadata   4.12.0\n",
      "ipykernel            6.13.0\n",
      "ipython              8.3.0\n",
      "ipython-genutils     0.2.0\n",
      "jedi                 0.18.1\n",
      "Jinja2               3.0.3\n",
      "joblib               1.1.0\n",
      "json5                0.9.9\n",
      "jsonschema           4.9.1\n",
      "jupyter-client       7.3.1\n",
      "jupyter-core         4.10.0\n",
      "jupyter-server       1.18.1\n",
      "jupyterlab           3.4.4\n",
      "jupyterlab-pygments  0.2.2\n",
      "jupyterlab-server    2.15.0\n",
      "langcodes            3.3.0\n",
      "MarkupSafe           2.1.0\n",
      "matplotlib-inline    0.1.3\n",
      "mistune              0.8.4\n",
      "murmurhash           1.0.6\n",
      "nbclassic            0.4.3\n",
      "nbclient             0.6.6\n",
      "nbconvert            6.5.0\n",
      "nbformat             5.4.0\n",
      "nest-asyncio         1.5.5\n",
      "nltk                 3.7\n",
      "notebook             6.4.12\n",
      "notebook-shim        0.1.0\n",
      "numpy                1.22.2\n",
      "packaging            21.3\n",
      "pandas               1.4.1\n",
      "pandocfilters        1.5.0\n",
      "parso                0.8.3\n",
      "pathy                0.6.1\n",
      "pickleshare          0.7.5\n",
      "Pillow               9.2.0\n",
      "pip                  22.2.2\n",
      "preshed              3.0.6\n",
      "prometheus-client    0.14.1\n",
      "prompt-toolkit       3.0.29\n",
      "psutil               5.9.1\n",
      "pure-eval            0.2.2\n",
      "pycparser            2.21\n",
      "pydantic             1.8.2\n",
      "Pygments             2.12.0\n",
      "pyparsing            3.0.7\n",
      "pyrsistent           0.18.1\n",
      "python-dateutil      2.8.2\n",
      "pytz                 2021.3\n",
      "pywin32              304\n",
      "pywinpty             2.0.7\n",
      "pyzmq                23.0.0\n",
      "regex                2022.3.15\n",
      "requests             2.27.1\n",
      "Send2Trash           1.8.0\n",
      "setuptools           60.9.3\n",
      "six                  1.16.0\n",
      "smart-open           5.2.1\n",
      "sniffio              1.2.0\n",
      "soupsieve            2.3.2.post1\n",
      "spacy                3.2.3\n",
      "spacy-legacy         3.0.9\n",
      "spacy-loggers        1.0.1\n",
      "srsly                2.4.2\n",
      "stack-data           0.2.0\n",
      "terminado            0.15.0\n",
      "thinc                8.0.13\n",
      "tinycss2             1.1.1\n",
      "tornado              6.1\n",
      "tqdm                 4.63.0\n",
      "traitlets            5.3.0\n",
      "typer                0.4.0\n",
      "typing_extensions    4.1.1\n",
      "urllib3              1.26.8\n",
      "wasabi               0.9.0\n",
      "wcwidth              0.2.5\n",
      "webencodings         0.5.1\n",
      "websocket-client     1.3.3\n",
      "wheel                0.37.1\n",
      "zipp                 3.8.1\n"
     ]
    }
   ],
   "source": [
    "! python -m pip list"
   ]
  },
  {
   "cell_type": "code",
   "execution_count": null,
   "id": "077b1c5c",
   "metadata": {},
   "outputs": [],
   "source": []
  }
 ],
 "metadata": {
  "kernelspec": {
   "display_name": "lane_venv",
   "language": "python",
   "name": "lane_venv"
  },
  "language_info": {
   "codemirror_mode": {
    "name": "ipython",
    "version": 3
   },
   "file_extension": ".py",
   "mimetype": "text/x-python",
   "name": "python",
   "nbconvert_exporter": "python",
   "pygments_lexer": "ipython3",
   "version": "3.9.13"
  }
 },
 "nbformat": 4,
 "nbformat_minor": 5
}
