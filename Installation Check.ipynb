{
 "cells": [
  {
   "cell_type": "markdown",
   "id": "f24b0016",
   "metadata": {},
   "source": [
    "# Checking that Jupyter Notebook is running properly"
   ]
  },
  {
   "cell_type": "code",
   "execution_count": 1,
   "id": "8c276d6b",
   "metadata": {},
   "outputs": [
    {
     "name": "stdout",
     "output_type": "stream",
     "text": [
      "Is Python working? Yes\n"
     ]
    }
   ],
   "source": [
    "import numpy\n",
    "\n",
    "print('Is Python working? Yes')"
   ]
  },
  {
   "cell_type": "code",
   "execution_count": null,
   "id": "a785ce57",
   "metadata": {},
   "outputs": [],
   "source": []
  }
 ],
 "metadata": {
  "kernelspec": {
   "display_name": "Python 3 (ipykernel)",
   "language": "python",
   "name": "python3"
  },
  "language_info": {
   "codemirror_mode": {
    "name": "ipython",
    "version": 3
   },
   "file_extension": ".py",
   "mimetype": "text/x-python",
   "name": "python",
   "nbconvert_exporter": "python",
   "pygments_lexer": "ipython3",
   "version": "3.9.13"
  }
 },
 "nbformat": 4,
 "nbformat_minor": 5
}
