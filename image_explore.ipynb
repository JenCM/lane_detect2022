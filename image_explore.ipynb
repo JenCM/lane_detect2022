{
 "cells": [
  {
   "cell_type": "markdown",
   "id": "50df90d9-4d75-4136-9f6a-2ac3bd717ed5",
   "metadata": {},
   "source": [
    "# Lane Detection project\n",
    "\n",
    "Purpose is to better understand the basics of Python image manipulation with just numpy. \n",
    "\n",
    "## Try converting image into numpy array"
   ]
  },
  {
   "cell_type": "code",
   "execution_count": 2,
   "id": "882b3649-35d7-4423-b0be-25aee6b4acd4",
   "metadata": {},
   "outputs": [
    {
     "name": "stdout",
     "output_type": "stream",
     "text": [
      "(720, 1280, 3)\n"
     ]
    }
   ],
   "source": [
    "from PIL import Image\n",
    "import numpy as np\n",
    "\n",
    "image = Image.open('try.jpg')\n",
    "\n",
    "image_array = np.asarray(image)\n",
    "\n",
    "# basic check that the array is not empty\n",
    "print(image_array.shape)"
   ]
  },
  {
   "cell_type": "markdown",
   "id": "6b367e8e-016f-433d-8b1c-eb5b4971f480",
   "metadata": {},
   "source": [
    "I assume here the shape denotes (image height, image width, RGB). RGB basics: (255, 255, 255) denotes white, while (0, 0, 0) black.\n",
    "\n",
    "## Converting Color to Grapyscale\n",
    "In my mind converting color images to grayscale is a kind of \"compression\" as we now only need 1 dimension instead of 3 for each pixel.\n",
    "\n",
    "To \"compress\" we could take a simple mean of the RGB values, but that doesn't necessarily reflect how the human eye perceives the world. Instead, this Luminosity weighing can be used instead (would be interesting if we use this method to also try to convert images into what other animals see, although goodness knows what we would do for infrared or ultraviolet):\n",
    "\n",
    "grayscale value = 0.3R + 0.59G + 0.11B"
   ]
  }
 ],
 "metadata": {
  "kernelspec": {
   "display_name": "lane_venv",
   "language": "python",
   "name": "lane_venv"
  },
  "language_info": {
   "codemirror_mode": {
    "name": "ipython",
    "version": 3
   },
   "file_extension": ".py",
   "mimetype": "text/x-python",
   "name": "python",
   "nbconvert_exporter": "python",
   "pygments_lexer": "ipython3",
   "version": "3.9.13"
  }
 },
 "nbformat": 4,
 "nbformat_minor": 5
}
