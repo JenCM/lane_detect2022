{
 "cells": [
  {
   "cell_type": "markdown",
   "id": "50df90d9-4d75-4136-9f6a-2ac3bd717ed5",
   "metadata": {},
   "source": [
    "# Lane Detection project\n",
    "\n",
    "Purpose is to better understand the basics of Python image manipulation with just numpy. \n",
    "\n",
    "## Try converting image into numpy array"
   ]
  },
  {
   "cell_type": "code",
   "execution_count": 14,
   "id": "882b3649-35d7-4423-b0be-25aee6b4acd4",
   "metadata": {},
   "outputs": [
    {
     "name": "stdout",
     "output_type": "stream",
     "text": [
      "(720, 1280, 3)\n",
      "Original image is 720 x 1280\n"
     ]
    }
   ],
   "source": [
    "from PIL import Image\n",
    "import numpy as np\n",
    "\n",
    "PHOTO_FILE = 'try.jpg'\n",
    "\n",
    "image = Image.open(PHOTO_FILE)\n",
    "\n",
    "image_array = np.asarray(image)\n",
    "\n",
    "# basic check that the array is not empty\n",
    "print(image_array.shape)\n",
    "\n",
    "rows = image_array.shape[0]\n",
    "cols = image_array.shape[1]\n",
    "\n",
    "# check that we get back the correct image/array dimensions\n",
    "print(f'Original image is {rows} x {cols}')"
   ]
  },
  {
   "cell_type": "markdown",
   "id": "6b367e8e-016f-433d-8b1c-eb5b4971f480",
   "metadata": {},
   "source": [
    "I assume here the shape denotes (image height, image width, RGB). RGB basics: (255, 255, 255) denotes white, while (0, 0, 0) black.\n",
    "\n",
    "## Converting Color to Grayscale\n",
    "In my mind converting color images to grayscale is a kind of \"compression\" as we now only need 1 dimension instead of 3 for each pixel.\n",
    "\n",
    "To \"compress\" we could take a simple mean of the RGB values, but that doesn't necessarily reflect how the human eye perceives the world. Instead, this Luminosity weighing can be used instead (would be interesting if we use this method to also try to convert images into what other animals see, although goodness knows what we would do for infrared or ultraviolet):\n",
    "\n",
    "grayscale value = 0.3R + 0.59G + 0.11B"
   ]
  },
  {
   "cell_type": "code",
   "execution_count": 12,
   "id": "d5974341-ddcf-45f9-98fa-73e0579b5023",
   "metadata": {},
   "outputs": [
    {
     "name": "stdout",
     "output_type": "stream",
     "text": [
      "[218 248 250]\n",
      "239\n",
      "(720, 1280)\n"
     ]
    }
   ],
   "source": [
    "# We want to loop through every pixel and compute weighted average for the RGB values\n",
    "\n",
    "# Helper function to calculate weighted average of RBG into grayscale\n",
    "def calc_grayscale(red=0, green=0, blue=0):\n",
    "    return 0.3*red + 0.59*green + 0.11*blue\n",
    "\n",
    "# # initialize array for holding grayscale values\n",
    "gray_array = np.zeros((rows, cols), dtype=np.uint8)\n",
    "\n",
    "for i in range(rows):\n",
    "    for j in range(cols):\n",
    "        pixel = image_array[i][j]\n",
    "        gray_array[i][j] = calc_grayscale(pixel[0], pixel[1], pixel[2])\n",
    "\n",
    "# print(gray_array[0][0])\n",
    "# print(gray_array.shape)\n"
   ]
  },
  {
   "cell_type": "markdown",
   "id": "32afe78b",
   "metadata": {},
   "source": [
    "## Careful Converting Numpy Array into Image\n",
    "- ensure new array (gray_array here) has (r, c) for shape, not (r, c, 1)\n",
    "- ensure new array contains data type np.uint8"
   ]
  },
  {
   "cell_type": "code",
   "execution_count": 16,
   "id": "514a1c50",
   "metadata": {},
   "outputs": [],
   "source": [
    "gray_image = Image.fromarray(gray_array)\n",
    "gray_image.save('gray_' + PHOTO_FILE)"
   ]
  },
  {
   "cell_type": "markdown",
   "id": "c49d32f8",
   "metadata": {},
   "source": [
    "# Applying Gaussian Blur \n",
    "\n",
    "This technique everages the pixels brightness with the sourinding pixels brightness. This helps smoothen the edges of the image and reduce noise.\n",
    "\n",
    "Note. This should not be needed if/when using Canny edge detector should "
   ]
  },
  {
   "cell_type": "code",
   "execution_count": null,
   "id": "6f16584f",
   "metadata": {},
   "outputs": [],
   "source": [
    "blur = GaussianBlur(gray, (5, 5), 0)\n",
    "\n",
    "imshow('result', blur) #to output gaussian image.\n",
    "waitKey(0)"
   ]
  },
  {
   "cell_type": "markdown",
   "id": "756b5c47",
   "metadata": {},
   "source": [
    "# Edge detection (Canny edge detector)"
   ]
  },
  {
   "cell_type": "code",
   "execution_count": null,
   "id": "1785ebe1",
   "metadata": {},
   "outputs": [],
   "source": [
    "canny = Canny(blur, 50, 150) #to obtain edges of the image\n",
    "imshow('result', Canny)\n",
    "waitKey(0)"
   ]
  },
  {
   "cell_type": "markdown",
   "id": "d0dbf713",
   "metadata": {},
   "source": [
    "# Extracting Region of Interest (ROI)\n",
    "\n",
    "TEST 123\n",
    "Test 123"
   ]
  },
  {
   "cell_type": "code",
   "execution_count": null,
   "id": "4f12fd23",
   "metadata": {},
   "outputs": [],
   "source": []
  },
  {
   "cell_type": "markdown",
   "id": "0f7273d6",
   "metadata": {},
   "source": [
    "# Fitting Lines using Hough Transform \n",
    "\n",
    "Note that linear regression is not used here."
   ]
  },
  {
   "cell_type": "code",
   "execution_count": null,
   "id": "7e34bd80",
   "metadata": {},
   "outputs": [],
   "source": []
  },
  {
   "cell_type": "markdown",
   "id": "c56c9211",
   "metadata": {},
   "source": [
    "## Lessons Learned\n",
    "\n",
    "- We rely on others to build functions without being able to comprehensively understand exactly what's happening in the packages/backend. In industry, this reliance can lead to liability issues, which explains why organizations can be reluctant to move from vendors to open-source technology.\n",
    "- From statistical analysis, it is critical to know assumptions, but in AI/ML we may not be following the mathematical assumptions which leads to spurious results that cannot be replicated\n",
    "- Answers on the internet can be overly complicated - part of the reward and fun is to figure out simple things\n",
    "- Opens the door for future exploration - classes, additional reading\n",
    "- Doesn't hurt to have ambitious scoping as long as the steps are in sequence and clear, and we can stop at any point to have tangible results\n",
    "- Collaboration functionality on GitHub and their different approaches (cloning, forking, adding collaborators)\n",
    "- Start wherever, keep going: just start\n",
    "\n",
    "## Future Improvements\n",
    "- For more complex steps: Use existing package functions to see tangible effects, then dissect source code together to parse how things work\n",
    "- Build up variety of projects: Different levels of entry in data science projects, include more/all of the data-gathering-to-model-monitoring lifecycle\n",
    "    - Data quality is hard to assess and improve! What are best practices?\n",
    "    - Model assumptions: what are common ones in the project's area? What mathematical assumptions are most important? (i.e. computer vision here; for example, to run regression, you need enough data for meaningful results, and there are also data type requirements - categorical or continuous - for result interpretation to be valid)\n",
    "- Perhaps structure as weekly big-group pair/mob-programming sessions, or offer that as a way to structure the group sessions\n",
    "- What to do with real, dirty data?"
   ]
  }
 ],
 "metadata": {
  "kernelspec": {
   "display_name": "Python 3.9.13 64-bit (windows store)",
   "language": "python",
   "name": "python3"
  },
  "language_info": {
   "codemirror_mode": {
    "name": "ipython",
    "version": 3
   },
   "file_extension": ".py",
   "mimetype": "text/x-python",
   "name": "python",
   "nbconvert_exporter": "python",
   "pygments_lexer": "ipython3",
   "version": "3.9.13"
  },
  "vscode": {
   "interpreter": {
    "hash": "4b971b7342d185f2d092aea346b91d3508acf028bcc81d7a9c5c7847bbd6a5de"
   }
  }
 },
 "nbformat": 4,
 "nbformat_minor": 5
}
