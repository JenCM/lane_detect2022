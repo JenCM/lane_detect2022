{
 "cells": [
  {
   "cell_type": "code",
   "execution_count": null,
   "id": "f7b96711-7547-460c-a26d-b64cbc3f22bf",
   "metadata": {},
   "outputs": [],
   "source": []
  }
 ],
 "metadata": {
  "kernelspec": {
   "display_name": "lane_venv",
   "language": "python",
   "name": "lane_venv"
  },
  "language_info": {
   "codemirror_mode": {
    "name": "ipython",
    "version": 3
   },
   "file_extension": ".py",
   "mimetype": "text/x-python",
   "name": "python",
   "nbconvert_exporter": "python",
   "pygments_lexer": "ipython3",
   "version": "3.9.13"
  }
 },
 "nbformat": 4,
 "nbformat_minor": 5
}
